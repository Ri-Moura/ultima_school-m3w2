{
 "cells": [
  {
   "cell_type": "code",
   "execution_count": 5,
   "metadata": {},
   "outputs": [],
   "source": [
    "import requests\n",
    "\n",
    "class TabelaFipe:\n",
    "    # As variáveis e os atributos são declaradas dentro do metodo de construção da classe - __init__\n",
    "\n",
    "    def __init__(self,id_value: str):       \n",
    "        url_car = \"https://parallelum.com.br/fipe/api/v1/carros/marcas/{}/modelos\"\n",
    "        url_car = url_car.format(id_value)\n",
    "        headers = { \n",
    "            \"User-Agent\": \"MyApp/1.0\"\n",
    "                    \n",
    "        }\n",
    "        \n",
    "               \n",
    "        response = requests.get(url, headers = headers)\n",
    "        dados = response.json\n",
    "        type(dados)\n",
    "        print(dados)\n",
    "        self.modelo = dados[\"modelos\"]\n",
    "        # Instânciando nosso estado atual e final\n",
    "        self.cont = 0\n",
    "        self.end = len(self.modelo)\n",
    "\n",
    "    def __iter__(self):\n",
    "        return self\n",
    "    \n",
    "    def __next__(self):\n",
    "        if self.cont >= self.end:\n",
    "            raise StopIteration\n",
    "        resultado = self.modelo[self.cont]\n",
    "        self.cont =+ 1\n",
    "        return resultado"
   ]
  },
  {
   "cell_type": "code",
   "execution_count": 6,
   "metadata": {},
   "outputs": [
    {
     "name": "stdout",
     "output_type": "stream",
     "text": [
      "<bound method Response.json of <Response [200]>>\n"
     ]
    },
    {
     "ename": "TypeError",
     "evalue": "'method' object is not subscriptable",
     "output_type": "error",
     "traceback": [
      "\u001b[0;31m---------------------------------------------------------------------------\u001b[0m",
      "\u001b[0;31mTypeError\u001b[0m                                 Traceback (most recent call last)",
      "Cell \u001b[0;32mIn[6], line 1\u001b[0m\n\u001b[0;32m----> 1\u001b[0m result \u001b[39m=\u001b[39m TabelaFipe(\u001b[39m\"\u001b[39;49m\u001b[39m13\u001b[39;49m\u001b[39m\"\u001b[39;49m)\n",
      "Cell \u001b[0;32mIn[5], line 19\u001b[0m, in \u001b[0;36mTabelaFipe.__init__\u001b[0;34m(self, id_value)\u001b[0m\n\u001b[1;32m     17\u001b[0m dados \u001b[39m=\u001b[39m response\u001b[39m.\u001b[39mjson\n\u001b[1;32m     18\u001b[0m \u001b[39mprint\u001b[39m(dados)\n\u001b[0;32m---> 19\u001b[0m \u001b[39mself\u001b[39m\u001b[39m.\u001b[39mmodelo \u001b[39m=\u001b[39m dados[\u001b[39m\"\u001b[39;49m\u001b[39mmodelos\u001b[39;49m\u001b[39m\"\u001b[39;49m]\n\u001b[1;32m     20\u001b[0m \u001b[39m# Instânciando nosso estado atual e final\u001b[39;00m\n\u001b[1;32m     21\u001b[0m \u001b[39mself\u001b[39m\u001b[39m.\u001b[39mcont \u001b[39m=\u001b[39m \u001b[39m0\u001b[39m\n",
      "\u001b[0;31mTypeError\u001b[0m: 'method' object is not subscriptable"
     ]
    }
   ],
   "source": [
    "result = TabelaFipe(\"13\")"
   ]
  },
  {
   "cell_type": "code",
   "execution_count": null,
   "metadata": {},
   "outputs": [],
   "source": []
  }
 ],
 "metadata": {
  "kernelspec": {
   "display_name": "ultimaschool",
   "language": "python",
   "name": "python3"
  },
  "language_info": {
   "codemirror_mode": {
    "name": "ipython",
    "version": 3
   },
   "file_extension": ".py",
   "mimetype": "text/x-python",
   "name": "python",
   "nbconvert_exporter": "python",
   "pygments_lexer": "ipython3",
   "version": "3.10.9"
  },
  "orig_nbformat": 4,
  "vscode": {
   "interpreter": {
    "hash": "acf93a53fb44cc9878db1c895c1e0a4acd58ac6a5e3d336efcb69ab379c24e04"
   }
  }
 },
 "nbformat": 4,
 "nbformat_minor": 2
}
